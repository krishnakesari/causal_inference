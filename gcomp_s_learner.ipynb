{
 "nbformat": 4,
 "nbformat_minor": 0,
 "metadata": {
  "colab": {
   "provenance": []
  },
  "kernelspec": {
   "name": "python3",
   "display_name": "Python 3"
  },
  "language_info": {
   "name": "python"
  }
 },
 "cells": [
  {
   "cell_type": "markdown",
   "source": [
    "# Notebook 2 - Experimenting with g-computation / s-learner\n"
   ],
   "metadata": {
    "id": "4nZ88B_PZWxL"
   }
  },
  {
   "cell_type": "code",
   "source": [
    "!apt-get install graphviz\n",
    "!pip install matplotlib pandas sklearn pydot"
   ],
   "metadata": {
    "colab": {
     "base_uri": "https://localhost:8080/"
    },
    "id": "bsgeYlaiZwQi",
    "outputId": "0b59f964-91a3-45da-9595-95138419ac3d"
   },
   "execution_count": null,
   "outputs": [
    {
     "output_type": "stream",
     "name": "stdout",
     "text": [
      "Reading package lists... Done\n",
      "Building dependency tree       \n",
      "Reading state information... Done\n",
      "graphviz is already the newest version (2.40.1-2).\n",
      "The following package was automatically installed and is no longer required:\n",
      "  libnvidia-common-460\n",
      "Use 'apt autoremove' to remove it.\n",
      "0 upgraded, 0 newly installed, 0 to remove and 20 not upgraded.\n",
      "Looking in indexes: https://pypi.org/simple, https://us-python.pkg.dev/colab-wheels/public/simple/\n",
      "Requirement already satisfied: matplotlib in /usr/local/lib/python3.8/dist-packages (3.2.2)\n",
      "Requirement already satisfied: pandas in /usr/local/lib/python3.8/dist-packages (1.3.5)\n",
      "Requirement already satisfied: sklearn in /usr/local/lib/python3.8/dist-packages (0.0.post1)\n",
      "Requirement already satisfied: pydot in /usr/local/lib/python3.8/dist-packages (1.3.0)\n",
      "Requirement already satisfied: pyparsing!=2.0.4,!=2.1.2,!=2.1.6,>=2.0.1 in /usr/local/lib/python3.8/dist-packages (from matplotlib) (3.0.9)\n",
      "Requirement already satisfied: cycler>=0.10 in /usr/local/lib/python3.8/dist-packages (from matplotlib) (0.11.0)\n",
      "Requirement already satisfied: python-dateutil>=2.1 in /usr/local/lib/python3.8/dist-packages (from matplotlib) (2.8.2)\n",
      "Requirement already satisfied: numpy>=1.11 in /usr/local/lib/python3.8/dist-packages (from matplotlib) (1.21.6)\n",
      "Requirement already satisfied: kiwisolver>=1.0.1 in /usr/local/lib/python3.8/dist-packages (from matplotlib) (1.4.4)\n",
      "Requirement already satisfied: six>=1.5 in /usr/local/lib/python3.8/dist-packages (from python-dateutil>=2.1->matplotlib) (1.15.0)\n",
      "Requirement already satisfied: pytz>=2017.3 in /usr/local/lib/python3.8/dist-packages (from pandas) (2022.6)\n"
     ]
    }
   ]
  },
  {
   "cell_type": "code",
   "execution_count": null,
   "metadata": {
    "id": "-t86lvyCZRKC"
   },
   "outputs": [],
   "source": [
    "from graphviz import Digraph\n",
    "import matplotlib.pyplot as plt\n",
    "import pandas as pd\n",
    "from sklearn.metrics import classification_report\n",
    "from sklearn.model_selection import train_test_split\n",
    "from sklearn.linear_model import LogisticRegression\n",
    "from sklearn.ensemble import GradientBoostingClassifier\n",
    "from sklearn.neighbors import NearestNeighbors\n",
    "from sklearn.preprocessing import StandardScaler\n",
    "\n",
    "%matplotlib inline"
   ]
  },
  {
   "cell_type": "markdown",
   "source": [
    "For this notebook we're going to be working with a semi-simulated dataset relating to customer churn at a cell phone company. The dataset is structured such that each row corresponds to a unique customer. We'll be working with contains the following columns:\n",
    "\n",
    "**customer_id**: Unique primary key for each individual in the dataset\n",
    "\n",
    "**region**: Which region in the United States does the customer live in?\n",
    "\n",
    "**acct_length**: How many days has the customer been active for?\n",
    "\n",
    "**internation_plan**: Does the customer have the international plan enabled?\n",
    "\n",
    "**voicemail_plan**: Does the customer have the voicemail plan enabled?\n",
    "\n",
    "**daytime_call_mins**: What is the total number of daytime call minutes the user has had?\n",
    "\n",
    "**evening_call_mins**: What is the total number of evening time call minutes the user has had?\t\n",
    "\n",
    "**nighttime_call_mins**: What is the total number of nighttime call minutes the user has had?\t\n",
    "\n",
    "**customer_service_calls**: How many customer service calls has the user made?\n",
    "\n",
    "**churn**: Did the customer quit the service?\n",
    "\n",
    "**age**: What is the age of the user (in years)?\n"
   ],
   "metadata": {
    "id": "Zf5Qab22ayYt"
   }
  },
  {
   "cell_type": "markdown",
   "source": [
    "The company is proposing rolling out the international plan to all customers, and increasing base plan prices across the board. To help understand the effects of this plan, they want to carry out an analysis to understand the causal effect of the international plan on the probability churn in this population. So in this case, the \"treatment\" is the presence of that phone plan, the outcome is the churn flag.\n",
    "\n",
    "As far as confounders we'll control for, let's say you have a whiteboarding session with the business team and collectively you decide the following causal DAG is a decent representation of how the variables in this dataset relate to each other:"
   ],
   "metadata": {
    "id": "j66COOeoox8Z"
   }
  },
  {
   "cell_type": "code",
   "source": [
    "g = Digraph('churn_causality')\n",
    "g.edge('internation_plan', 'churn')\n",
    "g.edge('age', 'churn')\n",
    "g.edge('region', 'churn')\n",
    "g.edge('customer_service_calls', 'churn')\n",
    "g.edge('acct_length', 'customer_service_calls')\n",
    "g.edge('daytime_call_mins', 'acct_length')\n",
    "g.edge('evening_call_mins', 'acct_length')\n",
    "g.edge('nighttime_call_mins', 'acct_length')\n",
    "g.edge('voicemail_plan', 'churn')\n",
    "g.edge('age', 'internation_plan')\n",
    "g.edge('age', 'voicemail_plan')\n",
    "g.edge('region', 'internation_plan')\n",
    "g.edge('region', 'voicemail_plan')\n",
    "g.edge('acct_length', 'churn')\n",
    "g"
   ],
   "metadata": {
    "colab": {
     "base_uri": "https://localhost:8080/",
     "height": 367
    },
    "id": "NXHW2Z-QpX9J",
    "outputId": "7beca29f-1b1c-4c3d-c123-7411ec09a68e"
   },
   "execution_count": null,
   "outputs": [
    {
     "output_type": "execute_result",
     "data": {
      "text/plain": [
       "<graphviz.dot.Digraph at 0x7f55fc6c9310>"
      ],
      "image/svg+xml": "<?xml version=\"1.0\" encoding=\"UTF-8\" standalone=\"no\"?>\n<!DOCTYPE svg PUBLIC \"-//W3C//DTD SVG 1.1//EN\"\n \"http://www.w3.org/Graphics/SVG/1.1/DTD/svg11.dtd\">\n<!-- Generated by graphviz version 2.40.1 (20161225.0304)\n -->\n<!-- Title: churn_causality Pages: 1 -->\n<svg width=\"807pt\" height=\"260pt\"\n viewBox=\"0.00 0.00 806.90 260.00\" xmlns=\"http://www.w3.org/2000/svg\" xmlns:xlink=\"http://www.w3.org/1999/xlink\">\n<g id=\"graph0\" class=\"graph\" transform=\"scale(1 1) rotate(0) translate(4 256)\">\n<title>churn_causality</title>\n<polygon fill=\"#ffffff\" stroke=\"transparent\" points=\"-4,4 -4,-256 802.9042,-256 802.9042,4 -4,4\"/>\n<!-- internation_plan -->\n<g id=\"node1\" class=\"node\">\n<title>internation_plan</title>\n<ellipse fill=\"none\" stroke=\"#000000\" cx=\"86.8119\" cy=\"-90\" rx=\"71.4873\" ry=\"18\"/>\n<text text-anchor=\"middle\" x=\"86.8119\" y=\"-86.3\" font-family=\"Times,serif\" font-size=\"14.00\" fill=\"#000000\">internation_plan</text>\n</g>\n<!-- churn -->\n<g id=\"node2\" class=\"node\">\n<title>churn</title>\n<ellipse fill=\"none\" stroke=\"#000000\" cx=\"291.8119\" cy=\"-18\" rx=\"32.4942\" ry=\"18\"/>\n<text text-anchor=\"middle\" x=\"291.8119\" y=\"-14.3\" font-family=\"Times,serif\" font-size=\"14.00\" fill=\"#000000\">churn</text>\n</g>\n<!-- internation_plan&#45;&gt;churn -->\n<g id=\"edge1\" class=\"edge\">\n<title>internation_plan&#45;&gt;churn</title>\n<path fill=\"none\" stroke=\"#000000\" d=\"M128.7914,-75.256C165.8386,-62.2443 219.3195,-43.4607 254.796,-31.0007\"/>\n<polygon fill=\"#000000\" stroke=\"#000000\" points=\"256.0209,-34.2802 264.2961,-27.6641 253.7012,-27.6757 256.0209,-34.2802\"/>\n</g>\n<!-- age -->\n<g id=\"node3\" class=\"node\">\n<title>age</title>\n<ellipse fill=\"none\" stroke=\"#000000\" cx=\"86.8119\" cy=\"-162\" rx=\"27\" ry=\"18\"/>\n<text text-anchor=\"middle\" x=\"86.8119\" y=\"-158.3\" font-family=\"Times,serif\" font-size=\"14.00\" fill=\"#000000\">age</text>\n</g>\n<!-- age&#45;&gt;internation_plan -->\n<g id=\"edge10\" class=\"edge\">\n<title>age&#45;&gt;internation_plan</title>\n<path fill=\"none\" stroke=\"#000000\" d=\"M86.8119,-143.8314C86.8119,-136.131 86.8119,-126.9743 86.8119,-118.4166\"/>\n<polygon fill=\"#000000\" stroke=\"#000000\" points=\"90.312,-118.4132 86.8119,-108.4133 83.312,-118.4133 90.312,-118.4132\"/>\n</g>\n<!-- age&#45;&gt;churn -->\n<g id=\"edge2\" class=\"edge\">\n<title>age&#45;&gt;churn</title>\n<path fill=\"none\" stroke=\"#000000\" d=\"M63.0904,-153.3083C44.0468,-144.9198 18.6085,-130.1951 6.8119,-108 -.6972,-93.8716 -3.3945,-84.3219 6.8119,-72 37.0861,-35.4511 177.2705,-23.449 249.1112,-19.6604\"/>\n<polygon fill=\"#000000\" stroke=\"#000000\" points=\"249.3798,-23.1514 259.1936,-19.159 249.0321,-16.1601 249.3798,-23.1514\"/>\n</g>\n<!-- voicemail_plan -->\n<g id=\"node10\" class=\"node\">\n<title>voicemail_plan</title>\n<ellipse fill=\"none\" stroke=\"#000000\" cx=\"243.8119\" cy=\"-90\" rx=\"67.6881\" ry=\"18\"/>\n<text text-anchor=\"middle\" x=\"243.8119\" y=\"-86.3\" font-family=\"Times,serif\" font-size=\"14.00\" fill=\"#000000\">voicemail_plan</text>\n</g>\n<!-- age&#45;&gt;voicemail_plan -->\n<g id=\"edge11\" class=\"edge\">\n<title>age&#45;&gt;voicemail_plan</title>\n<path fill=\"none\" stroke=\"#000000\" d=\"M109.3062,-151.6842C133.0239,-140.8072 170.9741,-123.4033 200.5257,-109.851\"/>\n<polygon fill=\"#000000\" stroke=\"#000000\" points=\"202.1659,-112.9494 209.7966,-105.5994 199.2479,-106.5866 202.1659,-112.9494\"/>\n</g>\n<!-- region -->\n<g id=\"node4\" class=\"node\">\n<title>region</title>\n<ellipse fill=\"none\" stroke=\"#000000\" cx=\"243.8119\" cy=\"-162\" rx=\"34.394\" ry=\"18\"/>\n<text text-anchor=\"middle\" x=\"243.8119\" y=\"-158.3\" font-family=\"Times,serif\" font-size=\"14.00\" fill=\"#000000\">region</text>\n</g>\n<!-- region&#45;&gt;internation_plan -->\n<g id=\"edge12\" class=\"edge\">\n<title>region&#45;&gt;internation_plan</title>\n<path fill=\"none\" stroke=\"#000000\" d=\"M217.8866,-150.1107C194.1771,-139.2375 158.6255,-122.9336 130.5272,-110.0478\"/>\n<polygon fill=\"#000000\" stroke=\"#000000\" points=\"131.8605,-106.8088 121.3118,-105.8216 128.9425,-113.1716 131.8605,-106.8088\"/>\n</g>\n<!-- region&#45;&gt;churn -->\n<g id=\"edge3\" class=\"edge\">\n<title>region&#45;&gt;churn</title>\n<path fill=\"none\" stroke=\"#000000\" d=\"M271.1825,-150.8992C288.8519,-142.1202 310.415,-127.9902 320.8119,-108 331.6178,-87.2235 321.3752,-61.6548 310.1871,-43.0866\"/>\n<polygon fill=\"#000000\" stroke=\"#000000\" points=\"313.0669,-41.094 304.7069,-34.5853 307.1834,-44.8867 313.0669,-41.094\"/>\n</g>\n<!-- region&#45;&gt;voicemail_plan -->\n<g id=\"edge13\" class=\"edge\">\n<title>region&#45;&gt;voicemail_plan</title>\n<path fill=\"none\" stroke=\"#000000\" d=\"M243.8119,-143.8314C243.8119,-136.131 243.8119,-126.9743 243.8119,-118.4166\"/>\n<polygon fill=\"#000000\" stroke=\"#000000\" points=\"247.312,-118.4132 243.8119,-108.4133 240.312,-118.4133 247.312,-118.4132\"/>\n</g>\n<!-- customer_service_calls -->\n<g id=\"node5\" class=\"node\">\n<title>customer_service_calls</title>\n<ellipse fill=\"none\" stroke=\"#000000\" cx=\"463.8119\" cy=\"-90\" rx=\"95.5831\" ry=\"18\"/>\n<text text-anchor=\"middle\" x=\"463.8119\" y=\"-86.3\" font-family=\"Times,serif\" font-size=\"14.00\" fill=\"#000000\">customer_service_calls</text>\n</g>\n<!-- customer_service_calls&#45;&gt;churn -->\n<g id=\"edge4\" class=\"edge\">\n<title>customer_service_calls&#45;&gt;churn</title>\n<path fill=\"none\" stroke=\"#000000\" d=\"M424.3517,-73.4817C395.0741,-61.226 355.4987,-44.6596 327.2322,-32.8271\"/>\n<polygon fill=\"#000000\" stroke=\"#000000\" points=\"328.3169,-29.4869 317.741,-28.854 325.6139,-35.944 328.3169,-29.4869\"/>\n</g>\n<!-- acct_length -->\n<g id=\"node6\" class=\"node\">\n<title>acct_length</title>\n<ellipse fill=\"none\" stroke=\"#000000\" cx=\"525.8119\" cy=\"-162\" rx=\"53.0913\" ry=\"18\"/>\n<text text-anchor=\"middle\" x=\"525.8119\" y=\"-158.3\" font-family=\"Times,serif\" font-size=\"14.00\" fill=\"#000000\">acct_length</text>\n</g>\n<!-- acct_length&#45;&gt;churn -->\n<g id=\"edge14\" class=\"edge\">\n<title>acct_length&#45;&gt;churn</title>\n<path fill=\"none\" stroke=\"#000000\" d=\"M544.4575,-145.023C563.2991,-125.8188 587.2006,-94.3196 568.8119,-72 539.6229,-36.5713 404.7585,-24.0761 334.5566,-19.923\"/>\n<polygon fill=\"#000000\" stroke=\"#000000\" points=\"334.4595,-16.4122 324.2794,-19.3474 334.068,-23.4012 334.4595,-16.4122\"/>\n</g>\n<!-- acct_length&#45;&gt;customer_service_calls -->\n<g id=\"edge5\" class=\"edge\">\n<title>acct_length&#45;&gt;customer_service_calls</title>\n<path fill=\"none\" stroke=\"#000000\" d=\"M510.8035,-144.5708C503.2999,-135.857 494.0749,-125.1441 485.7913,-115.5244\"/>\n<polygon fill=\"#000000\" stroke=\"#000000\" points=\"488.2904,-113.0627 479.1129,-107.7689 482.986,-117.6304 488.2904,-113.0627\"/>\n</g>\n<!-- daytime_call_mins -->\n<g id=\"node7\" class=\"node\">\n<title>daytime_call_mins</title>\n<ellipse fill=\"none\" stroke=\"#000000\" cx=\"345.8119\" cy=\"-234\" rx=\"81.4863\" ry=\"18\"/>\n<text text-anchor=\"middle\" x=\"345.8119\" y=\"-230.3\" font-family=\"Times,serif\" font-size=\"14.00\" fill=\"#000000\">daytime_call_mins</text>\n</g>\n<!-- daytime_call_mins&#45;&gt;acct_length -->\n<g id=\"edge6\" class=\"edge\">\n<title>daytime_call_mins&#45;&gt;acct_length</title>\n<path fill=\"none\" stroke=\"#000000\" d=\"M385.3137,-218.1993C413.7649,-206.8188 452.1707,-191.4565 481.6377,-179.6697\"/>\n<polygon fill=\"#000000\" stroke=\"#000000\" points=\"483.276,-182.784 491.2609,-175.8204 480.6762,-176.2847 483.276,-182.784\"/>\n</g>\n<!-- evening_call_mins -->\n<g id=\"node8\" class=\"node\">\n<title>evening_call_mins</title>\n<ellipse fill=\"none\" stroke=\"#000000\" cx=\"525.8119\" cy=\"-234\" rx=\"81.4863\" ry=\"18\"/>\n<text text-anchor=\"middle\" x=\"525.8119\" y=\"-230.3\" font-family=\"Times,serif\" font-size=\"14.00\" fill=\"#000000\">evening_call_mins</text>\n</g>\n<!-- evening_call_mins&#45;&gt;acct_length -->\n<g id=\"edge7\" class=\"edge\">\n<title>evening_call_mins&#45;&gt;acct_length</title>\n<path fill=\"none\" stroke=\"#000000\" d=\"M525.8119,-215.8314C525.8119,-208.131 525.8119,-198.9743 525.8119,-190.4166\"/>\n<polygon fill=\"#000000\" stroke=\"#000000\" points=\"529.312,-190.4132 525.8119,-180.4133 522.312,-190.4133 529.312,-190.4132\"/>\n</g>\n<!-- nighttime_call_mins -->\n<g id=\"node9\" class=\"node\">\n<title>nighttime_call_mins</title>\n<ellipse fill=\"none\" stroke=\"#000000\" cx=\"711.8119\" cy=\"-234\" rx=\"87.1846\" ry=\"18\"/>\n<text text-anchor=\"middle\" x=\"711.8119\" y=\"-230.3\" font-family=\"Times,serif\" font-size=\"14.00\" fill=\"#000000\">nighttime_call_mins</text>\n</g>\n<!-- nighttime_call_mins&#45;&gt;acct_length -->\n<g id=\"edge8\" class=\"edge\">\n<title>nighttime_call_mins&#45;&gt;acct_length</title>\n<path fill=\"none\" stroke=\"#000000\" d=\"M670.5325,-218.0209C640.8843,-206.5442 600.9533,-191.087 570.5457,-179.3163\"/>\n<polygon fill=\"#000000\" stroke=\"#000000\" points=\"571.6221,-175.9799 561.0329,-175.6339 569.0951,-182.5079 571.6221,-175.9799\"/>\n</g>\n<!-- voicemail_plan&#45;&gt;churn -->\n<g id=\"edge9\" class=\"edge\">\n<title>voicemail_plan&#45;&gt;churn</title>\n<path fill=\"none\" stroke=\"#000000\" d=\"M255.6771,-72.2022C261.4585,-63.5301 268.5149,-52.9455 274.8526,-43.4389\"/>\n<polygon fill=\"#000000\" stroke=\"#000000\" points=\"277.7789,-45.3592 280.4138,-35.0972 271.9546,-41.4763 277.7789,-45.3592\"/>\n</g>\n</g>\n</svg>\n"
     },
     "metadata": {},
     "execution_count": 51
    }
   ]
  },
  {
   "cell_type": "markdown",
   "source": [
    "Based on this above causal DAG, there are only two obvious confounders of the international plan - churn relationship: age and region. So these are the only two covariates we'll plan on controlling for.  "
   ],
   "metadata": {
    "id": "-AThaE68zfYf"
   }
  },
  {
   "cell_type": "code",
   "source": [
    "df = pd.read_csv(\"https://raw.githubusercontent.com/ronikobrosly/misc_dataset/main/causal_churn.csv\")\n",
    "df.head()"
   ],
   "metadata": {
    "id": "XEnu5TpIZ5xe",
    "colab": {
     "base_uri": "https://localhost:8080/",
     "height": 206
    },
    "outputId": "9b11d12b-10c2-4277-d0e8-bc1f27319d80"
   },
   "execution_count": null,
   "outputs": [
    {
     "output_type": "execute_result",
     "data": {
      "text/plain": [
       "   customer_id              region  acct_length internation_plan  \\\n",
       "0            0  West North Central        128.0               no   \n",
       "1            1  East North Central        107.0               no   \n",
       "2            2     Middle Atlantic        137.0               no   \n",
       "3            3  East North Central         84.0              yes   \n",
       "4            4  West South Central         75.0              yes   \n",
       "\n",
       "  voicemail_plan  daytime_call_mins  evening_call_mins  nighttime_call_mins  \\\n",
       "0            yes              265.1              197.4                244.7   \n",
       "1            yes              161.6              195.5                254.4   \n",
       "2             no              243.4              121.2                162.6   \n",
       "3             no              299.4               61.9                196.9   \n",
       "4             no              166.7              148.3                186.9   \n",
       "\n",
       "   customer_service_calls  churn  age  \n",
       "0                     1.0      0   54  \n",
       "1                     1.0      0   47  \n",
       "2                     0.0      0   48  \n",
       "3                     2.0      0   57  \n",
       "4                     3.0      0   40  "
      ],
      "text/html": [
       "\n",
       "  <div id=\"df-dd3de3eb-6cf6-45d3-a552-c55a407fab12\">\n",
       "    <div class=\"colab-df-container\">\n",
       "      <div>\n",
       "<style scoped>\n",
       "    .dataframe tbody tr th:only-of-type {\n",
       "        vertical-align: middle;\n",
       "    }\n",
       "\n",
       "    .dataframe tbody tr th {\n",
       "        vertical-align: top;\n",
       "    }\n",
       "\n",
       "    .dataframe thead th {\n",
       "        text-align: right;\n",
       "    }\n",
       "</style>\n",
       "<table border=\"1\" class=\"dataframe\">\n",
       "  <thead>\n",
       "    <tr style=\"text-align: right;\">\n",
       "      <th></th>\n",
       "      <th>customer_id</th>\n",
       "      <th>region</th>\n",
       "      <th>acct_length</th>\n",
       "      <th>internation_plan</th>\n",
       "      <th>voicemail_plan</th>\n",
       "      <th>daytime_call_mins</th>\n",
       "      <th>evening_call_mins</th>\n",
       "      <th>nighttime_call_mins</th>\n",
       "      <th>customer_service_calls</th>\n",
       "      <th>churn</th>\n",
       "      <th>age</th>\n",
       "    </tr>\n",
       "  </thead>\n",
       "  <tbody>\n",
       "    <tr>\n",
       "      <th>0</th>\n",
       "      <td>0</td>\n",
       "      <td>West North Central</td>\n",
       "      <td>128.0</td>\n",
       "      <td>no</td>\n",
       "      <td>yes</td>\n",
       "      <td>265.1</td>\n",
       "      <td>197.4</td>\n",
       "      <td>244.7</td>\n",
       "      <td>1.0</td>\n",
       "      <td>0</td>\n",
       "      <td>54</td>\n",
       "    </tr>\n",
       "    <tr>\n",
       "      <th>1</th>\n",
       "      <td>1</td>\n",
       "      <td>East North Central</td>\n",
       "      <td>107.0</td>\n",
       "      <td>no</td>\n",
       "      <td>yes</td>\n",
       "      <td>161.6</td>\n",
       "      <td>195.5</td>\n",
       "      <td>254.4</td>\n",
       "      <td>1.0</td>\n",
       "      <td>0</td>\n",
       "      <td>47</td>\n",
       "    </tr>\n",
       "    <tr>\n",
       "      <th>2</th>\n",
       "      <td>2</td>\n",
       "      <td>Middle Atlantic</td>\n",
       "      <td>137.0</td>\n",
       "      <td>no</td>\n",
       "      <td>no</td>\n",
       "      <td>243.4</td>\n",
       "      <td>121.2</td>\n",
       "      <td>162.6</td>\n",
       "      <td>0.0</td>\n",
       "      <td>0</td>\n",
       "      <td>48</td>\n",
       "    </tr>\n",
       "    <tr>\n",
       "      <th>3</th>\n",
       "      <td>3</td>\n",
       "      <td>East North Central</td>\n",
       "      <td>84.0</td>\n",
       "      <td>yes</td>\n",
       "      <td>no</td>\n",
       "      <td>299.4</td>\n",
       "      <td>61.9</td>\n",
       "      <td>196.9</td>\n",
       "      <td>2.0</td>\n",
       "      <td>0</td>\n",
       "      <td>57</td>\n",
       "    </tr>\n",
       "    <tr>\n",
       "      <th>4</th>\n",
       "      <td>4</td>\n",
       "      <td>West South Central</td>\n",
       "      <td>75.0</td>\n",
       "      <td>yes</td>\n",
       "      <td>no</td>\n",
       "      <td>166.7</td>\n",
       "      <td>148.3</td>\n",
       "      <td>186.9</td>\n",
       "      <td>3.0</td>\n",
       "      <td>0</td>\n",
       "      <td>40</td>\n",
       "    </tr>\n",
       "  </tbody>\n",
       "</table>\n",
       "</div>\n",
       "      <button class=\"colab-df-convert\" onclick=\"convertToInteractive('df-dd3de3eb-6cf6-45d3-a552-c55a407fab12')\"\n",
       "              title=\"Convert this dataframe to an interactive table.\"\n",
       "              style=\"display:none;\">\n",
       "        \n",
       "  <svg xmlns=\"http://www.w3.org/2000/svg\" height=\"24px\"viewBox=\"0 0 24 24\"\n",
       "       width=\"24px\">\n",
       "    <path d=\"M0 0h24v24H0V0z\" fill=\"none\"/>\n",
       "    <path d=\"M18.56 5.44l.94 2.06.94-2.06 2.06-.94-2.06-.94-.94-2.06-.94 2.06-2.06.94zm-11 1L8.5 8.5l.94-2.06 2.06-.94-2.06-.94L8.5 2.5l-.94 2.06-2.06.94zm10 10l.94 2.06.94-2.06 2.06-.94-2.06-.94-.94-2.06-.94 2.06-2.06.94z\"/><path d=\"M17.41 7.96l-1.37-1.37c-.4-.4-.92-.59-1.43-.59-.52 0-1.04.2-1.43.59L10.3 9.45l-7.72 7.72c-.78.78-.78 2.05 0 2.83L4 21.41c.39.39.9.59 1.41.59.51 0 1.02-.2 1.41-.59l7.78-7.78 2.81-2.81c.8-.78.8-2.07 0-2.86zM5.41 20L4 18.59l7.72-7.72 1.47 1.35L5.41 20z\"/>\n",
       "  </svg>\n",
       "      </button>\n",
       "      \n",
       "  <style>\n",
       "    .colab-df-container {\n",
       "      display:flex;\n",
       "      flex-wrap:wrap;\n",
       "      gap: 12px;\n",
       "    }\n",
       "\n",
       "    .colab-df-convert {\n",
       "      background-color: #E8F0FE;\n",
       "      border: none;\n",
       "      border-radius: 50%;\n",
       "      cursor: pointer;\n",
       "      display: none;\n",
       "      fill: #1967D2;\n",
       "      height: 32px;\n",
       "      padding: 0 0 0 0;\n",
       "      width: 32px;\n",
       "    }\n",
       "\n",
       "    .colab-df-convert:hover {\n",
       "      background-color: #E2EBFA;\n",
       "      box-shadow: 0px 1px 2px rgba(60, 64, 67, 0.3), 0px 1px 3px 1px rgba(60, 64, 67, 0.15);\n",
       "      fill: #174EA6;\n",
       "    }\n",
       "\n",
       "    [theme=dark] .colab-df-convert {\n",
       "      background-color: #3B4455;\n",
       "      fill: #D2E3FC;\n",
       "    }\n",
       "\n",
       "    [theme=dark] .colab-df-convert:hover {\n",
       "      background-color: #434B5C;\n",
       "      box-shadow: 0px 1px 3px 1px rgba(0, 0, 0, 0.15);\n",
       "      filter: drop-shadow(0px 1px 2px rgba(0, 0, 0, 0.3));\n",
       "      fill: #FFFFFF;\n",
       "    }\n",
       "  </style>\n",
       "\n",
       "      <script>\n",
       "        const buttonEl =\n",
       "          document.querySelector('#df-dd3de3eb-6cf6-45d3-a552-c55a407fab12 button.colab-df-convert');\n",
       "        buttonEl.style.display =\n",
       "          google.colab.kernel.accessAllowed ? 'block' : 'none';\n",
       "\n",
       "        async function convertToInteractive(key) {\n",
       "          const element = document.querySelector('#df-dd3de3eb-6cf6-45d3-a552-c55a407fab12');\n",
       "          const dataTable =\n",
       "            await google.colab.kernel.invokeFunction('convertToInteractive',\n",
       "                                                     [key], {});\n",
       "          if (!dataTable) return;\n",
       "\n",
       "          const docLinkHtml = 'Like what you see? Visit the ' +\n",
       "            '<a target=\"_blank\" href=https://colab.research.google.com/notebooks/data_table.ipynb>data table notebook</a>'\n",
       "            + ' to learn more about interactive tables.';\n",
       "          element.innerHTML = '';\n",
       "          dataTable['output_type'] = 'display_data';\n",
       "          await google.colab.output.renderOutput(dataTable, element);\n",
       "          const docLink = document.createElement('div');\n",
       "          docLink.innerHTML = docLinkHtml;\n",
       "          element.appendChild(docLink);\n",
       "        }\n",
       "      </script>\n",
       "    </div>\n",
       "  </div>\n",
       "  "
      ]
     },
     "metadata": {},
     "execution_count": 29
    }
   ]
  },
  {
   "cell_type": "markdown",
   "source": [
    "### First, let's clean up the data a bit"
   ],
   "metadata": {
    "id": "JDCSL7eUk55q"
   }
  },
  {
   "cell_type": "code",
   "source": [
    "# Let's scale our continuous or close to continuous covariates\n",
    "features = df[['acct_length', 'daytime_call_mins', 'evening_call_mins', 'nighttime_call_mins', 'age']]\n",
    "\n",
    "# Use scaler of choice; here Standard scaler is used\n",
    "scaler = StandardScaler().fit(features.values)\n",
    "features = scaler.transform(features.values)\n",
    "\n",
    "df[['acct_length', 'daytime_call_mins', 'evening_call_mins', 'nighttime_call_mins', 'age']] = features"
   ],
   "metadata": {
    "id": "GrThww81aaJa"
   },
   "execution_count": null,
   "outputs": []
  },
  {
   "cell_type": "code",
   "source": [
    "# We'll convert the `region`, `internation_plan`, `voicemail_plan`, and `customer_service_calls` columns into categorical columns\n",
    "\n",
    "df2 = pd.concat(\n",
    "    [\n",
    "        df[[\"churn\", \"age\", \"acct_length\", \"daytime_call_mins\", \"evening_call_mins\", \"nighttime_call_mins\"]],\n",
    "        pd.get_dummies(df[\"region\"], prefix = \"region\"),\n",
    "        pd.get_dummies(df[\"internation_plan\"], prefix = \"int_plan\"),\n",
    "        pd.get_dummies(df[\"voicemail_plan\"], prefix = \"vm_plan\"),\n",
    "        pd.qcut(df['customer_service_calls'], 2, labels=[0, 1]) # let's just split this at the median (low vs high)\n",
    "    ],\n",
    "    axis = 1\n",
    ")\n",
    "\n"
   ],
   "metadata": {
    "id": "lfkmvSCdk_WS"
   },
   "execution_count": null,
   "outputs": []
  },
  {
   "cell_type": "code",
   "source": [
    "# Now we can drop necessary columns (i.e. one reference column from each dummy variable group)\n",
    "df2.drop(columns = [\"region_East North Central\", \"int_plan_no\", \"vm_plan_no\"], inplace = True)"
   ],
   "metadata": {
    "id": "NSd2v-FPksJB"
   },
   "execution_count": null,
   "outputs": []
  },
  {
   "cell_type": "markdown",
   "source": [
    "\n",
    "### First, let's train a predictive model with scikit-learn. This model should take in the treatment variable and covariates, and predict the outcome variable (i.e. `churn`)\n",
    "\n",
    "If you're curious about how well the model performs that's probably a good thing to be curious about. Let's split our small dataset into test and training sets. Now, admittedly, we have a tiny dataset, but we're doing this to show that standard ML evaluation methods are still relevant here.\n"
   ],
   "metadata": {
    "id": "5ooVHpWfoiwP"
   }
  },
  {
   "cell_type": "code",
   "source": [
    "train_df, test_df = train_test_split(df2, test_size = 0.25, random_state = 512)"
   ],
   "metadata": {
    "id": "O-3YWXiioSCr"
   },
   "execution_count": null,
   "outputs": []
  },
  {
   "cell_type": "markdown",
   "source": [
    "You can use any sort of model you'd like (from simple linear ones to very complex ones)"
   ],
   "metadata": {
    "id": "WKjUVmwEphzz"
   }
  },
  {
   "cell_type": "code",
   "source": [
    "features = [\n",
    "    'age', 'region_East South Central',\n",
    "    'region_Middle Atlantic', 'region_Mountain', 'region_New England',\n",
    "    'region_Pacific', 'region_South Atlantic', 'region_West North Central',\n",
    "    'region_West South Central', 'int_plan_yes', \n",
    "]"
   ],
   "metadata": {
    "id": "fGEn8ae5o7kC"
   },
   "execution_count": null,
   "outputs": []
  },
  {
   "cell_type": "code",
   "source": [
    "temp_model = GradientBoostingClassifier(random_state = 512).fit(X = train_df[features], y = train_df['churn'])"
   ],
   "metadata": {
    "id": "tZ0V829dpGh-"
   },
   "execution_count": null,
   "outputs": []
  },
  {
   "cell_type": "code",
   "source": [
    "print(classification_report(y_true = temp_model.predict(test_df[features]).reshape(-1,1), y_pred = test_df['churn'].values.reshape(-1,1)))"
   ],
   "metadata": {
    "colab": {
     "base_uri": "https://localhost:8080/"
    },
    "id": "08zuvud4p35T",
    "outputId": "2f98f9b0-2b4b-4336-da47-b7638941ed87"
   },
   "execution_count": null,
   "outputs": [
    {
     "output_type": "stream",
     "name": "stdout",
     "text": [
      "              precision    recall  f1-score   support\n",
      "\n",
      "           0       0.98      0.87      0.92       796\n",
      "           1       0.12      0.47      0.19        30\n",
      "\n",
      "    accuracy                           0.85       826\n",
      "   macro avg       0.55      0.67      0.55       826\n",
      "weighted avg       0.95      0.85      0.89       826\n",
      "\n"
     ]
    }
   ]
  },
  {
   "cell_type": "markdown",
   "source": [
    "You could compare different model types here to see which performs best in your hold-out set. As you might expect, you'll want a model that performs well for both classes, so that we can make good inferences.\n",
    "\n",
    "The metrics for the \"churned\" class in this example look awful (even if the overall model accuracy seems good on the surface), however, because this is just a demonstration so we'll continue moving forward. Let's now train on the whole dataset."
   ],
   "metadata": {
    "id": "c25j9z1Cl5s2"
   }
  },
  {
   "cell_type": "markdown",
   "source": [
    "### <b>EXERCISE</b>\n",
    "\n",
    "<b> Train a classification model using the full set of data (training + test sets combined). </b>\n"
   ],
   "metadata": {
    "id": "RTcSAzVTlzWq"
   }
  },
  {
   "cell_type": "code",
   "source": [
    "model = GradientBoostingClassifier(random_state = 512).fit(X = df2[features], y = df2['churn'])"
   ],
   "metadata": {
    "id": "MmkVFq-JqyqO"
   },
   "execution_count": null,
   "outputs": []
  },
  {
   "cell_type": "markdown",
   "source": [
    "## Now that we have a model we can start making predictions to see counterfactual outcomes"
   ],
   "metadata": {
    "id": "LVndFrE3oKbZ"
   }
  },
  {
   "cell_type": "markdown",
   "source": [
    "### <b>EXERCISE</b>\n",
    "\n",
    "<b> Take the full dataset and \"force\" everyone to have received the treatment, what is the mean probability of all individuals to have churned? </b>\n"
   ],
   "metadata": {
    "id": "Ytd0kV9xoOZn"
   }
  },
  {
   "cell_type": "code",
   "source": [
    "df_treat = df2.copy()\n",
    "df_treat['int_plan_yes'] = 1"
   ],
   "metadata": {
    "id": "pjRVMTmJnrJt"
   },
   "execution_count": null,
   "outputs": []
  },
  {
   "cell_type": "code",
   "source": [
    "# Verifying that everyone is \"receiving the treatment\"\n",
    "df_treat['int_plan_yes'].value_counts()"
   ],
   "metadata": {
    "colab": {
     "base_uri": "https://localhost:8080/"
    },
    "id": "mNcoOG7sonmP",
    "outputId": "e8cdf9ec-c649-42bc-e916-4ed8d3b04742"
   },
   "execution_count": null,
   "outputs": [
    {
     "output_type": "execute_result",
     "data": {
      "text/plain": [
       "1    3304\n",
       "Name: int_plan_yes, dtype: int64"
      ]
     },
     "metadata": {},
     "execution_count": 59
    }
   ]
  },
  {
   "cell_type": "code",
   "source": [
    "# Let's get the probability of churn from these predictions\n",
    "treat_churn_prob = model.predict_proba(df_treat[features])[:,1].mean()\n",
    "print(f\"Mean probability of churning in this hypothetical treatment population is {round(treat_churn_prob, 3)}\")"
   ],
   "metadata": {
    "colab": {
     "base_uri": "https://localhost:8080/"
    },
    "id": "bswMc6bXpdCH",
    "outputId": "23de0a0d-d49a-43d2-9e56-2d7475066309"
   },
   "execution_count": null,
   "outputs": [
    {
     "output_type": "stream",
     "name": "stdout",
     "text": [
      "Mean probability of churning in this hypothetical treatment population is 0.397\n"
     ]
    }
   ]
  },
  {
   "cell_type": "markdown",
   "source": [
    "### <b>EXERCISE</b>\n",
    "\n",
    "<b> Take the full dataset and \"force\" everyone to have NOT received the treatment, what is the mean probability of all individuals to have churned? </b>\n"
   ],
   "metadata": {
    "id": "b_TClIAU07Jw"
   }
  },
  {
   "cell_type": "code",
   "source": [
    "df_ctrl = df2.copy()\n",
    "df_ctrl['int_plan_yes'] = 0"
   ],
   "metadata": {
    "id": "EdoJaJLt0bvf"
   },
   "execution_count": null,
   "outputs": []
  },
  {
   "cell_type": "code",
   "source": [
    "# Verifying that nobody is \"receiving the treatment\"\n",
    "df_ctrl['int_plan_yes'].value_counts()"
   ],
   "metadata": {
    "colab": {
     "base_uri": "https://localhost:8080/"
    },
    "id": "VudYIiQS1AYS",
    "outputId": "31ecbd13-2d16-417b-b812-f09afca09cee"
   },
   "execution_count": null,
   "outputs": [
    {
     "output_type": "execute_result",
     "data": {
      "text/plain": [
       "0    3304\n",
       "Name: int_plan_yes, dtype: int64"
      ]
     },
     "metadata": {},
     "execution_count": 62
    }
   ]
  },
  {
   "cell_type": "code",
   "source": [
    "# Let's get the probability of churn from these predictions\n",
    "ctrl_churn_prob = model.predict_proba(df_ctrl[features])[:,1].mean()\n",
    "print(f\"Mean probability of churning in this hypothetical control population is {round(ctrl_churn_prob, 3)}\")"
   ],
   "metadata": {
    "colab": {
     "base_uri": "https://localhost:8080/"
    },
    "id": "TzwkCtKK1FLW",
    "outputId": "9a0036ed-98c9-4f22-c73f-e4f8af73a756"
   },
   "execution_count": null,
   "outputs": [
    {
     "output_type": "stream",
     "name": "stdout",
     "text": [
      "Mean probability of churning in this hypothetical control population is 0.117\n"
     ]
    }
   ]
  },
  {
   "cell_type": "markdown",
   "source": [
    "## This is a very interesting outcome. Essentially you found that enabling international calls across the board (as well as increasing the base phone plan rate to account for this), increases the probability of churning in this population by about 239% (11.7% to 39.7%)! You can think of this delta as your average treatment effect (ATE).\n",
    "\n",
    "Now remember, one of the challenges of causal inference is with what we have at our disposal, we have no way of determining if this is correct. So there are a few possibilities at this point: \n",
    "\n",
    "1) We took all of the relevant data, correctly specified the causal DAG, picked the correct confounding variables to control for, and rolling out this intervention (everyone gets ability to make international calls and also sees an increase in their base phone plan price) to the whole population will cause a big uptick in churn. \n",
    "\n",
    "2) We have all of the relevant data, and have incorrectly specified our causal DAG and as a result picked a wrong set of covariates to control for. Better re-assess this with the domain experts.\n",
    "\n",
    "3) We're missing critical variables in our dataset and there is unaccounted for confounding bias going on here. Can you try to brainstorm what these could be and see if you're able to bring in that data?"
   ],
   "metadata": {
    "id": "rPBYNTrg2HTu"
   }
  },
  {
   "cell_type": "markdown",
   "source": [
    "## You could obtain confidence intervals around this estimate by taking bootstrap replicates of the original dataset, training a new model on each replicate, and then calculating the ATE for each replicate. The 2.5th and 97.5th percentiles of these values would represent the bounds of your 95% confidence interval."
   ],
   "metadata": {
    "id": "V7HLaM_BCDxR"
   }
  },
  {
   "cell_type": "markdown",
   "source": [
    "### <b>EXERCISE</b>\n",
    "\n",
    "<b> Can you calculate the average treatment effect among the treated (ATT)? Hint: just as the metric's name suggests, you would focus exclusively on the originally treated group, and see how a receiving and not receiving the treatment among that group would play out. </b>\n"
   ],
   "metadata": {
    "id": "mySJ6ahnCTxB"
   }
  },
  {
   "cell_type": "code",
   "source": [
    "df_treat = df2[df2[\"int_plan_yes\"] == 1]\n",
    "df_treat['int_plan_yes'] = 1\n",
    "treat_churn_prob = model.predict_proba(df_treat[features])[:,1].mean()\n",
    "print(f\"Mean probability of churning in this hypothetical treatment population is {round(treat_churn_prob, 3)}\")"
   ],
   "metadata": {
    "colab": {
     "base_uri": "https://localhost:8080/"
    },
    "id": "Jh-1PApi3Lsk",
    "outputId": "f8ba4c1e-bf71-488c-ca35-7aefefc0c3c6"
   },
   "execution_count": null,
   "outputs": [
    {
     "output_type": "stream",
     "name": "stdout",
     "text": [
      "Mean probability of churning in this hypothetical treatment population is 0.42\n"
     ]
    },
    {
     "output_type": "stream",
     "name": "stderr",
     "text": [
      "<ipython-input-68-b7e9f14b9fee>:2: SettingWithCopyWarning: \n",
      "A value is trying to be set on a copy of a slice from a DataFrame.\n",
      "Try using .loc[row_indexer,col_indexer] = value instead\n",
      "\n",
      "See the caveats in the documentation: https://pandas.pydata.org/pandas-docs/stable/user_guide/indexing.html#returning-a-view-versus-a-copy\n",
      "  df_treat['int_plan_yes'] = 1\n"
     ]
    }
   ]
  },
  {
   "cell_type": "code",
   "source": [
    "df_ctrl = df2[df2[\"int_plan_yes\"] == 1]\n",
    "df_ctrl['int_plan_yes'] = 0\n",
    "ctrl_churn_prob = model.predict_proba(df_ctrl[features])[:,1].mean()\n",
    "print(f\"Mean probability of churning in this hypothetical treatment population is {round(ctrl_churn_prob, 3)}\")"
   ],
   "metadata": {
    "colab": {
     "base_uri": "https://localhost:8080/"
    },
    "id": "6YJfjjxpCClh",
    "outputId": "a9efb89a-234a-48c2-fd7a-17821cd61203"
   },
   "execution_count": null,
   "outputs": [
    {
     "output_type": "stream",
     "name": "stdout",
     "text": [
      "Mean probability of churning in this hypothetical treatment population is 0.126\n"
     ]
    },
    {
     "output_type": "stream",
     "name": "stderr",
     "text": [
      "<ipython-input-69-29845c2a5592>:2: SettingWithCopyWarning: \n",
      "A value is trying to be set on a copy of a slice from a DataFrame.\n",
      "Try using .loc[row_indexer,col_indexer] = value instead\n",
      "\n",
      "See the caveats in the documentation: https://pandas.pydata.org/pandas-docs/stable/user_guide/indexing.html#returning-a-view-versus-a-copy\n",
      "  df_ctrl['int_plan_yes'] = 0\n"
     ]
    }
   ]
  }
 ]
}
